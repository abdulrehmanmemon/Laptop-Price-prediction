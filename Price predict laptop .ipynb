{
 "cells": [
  {
   "cell_type": "markdown",
   "id": "7eee70bf",
   "metadata": {},
   "source": [
    "# Laptop Price\n",
    "\n",
    "### 1. Problem Definition\n",
    "**By Getting observation from Feature we are going to predict the value of laptops**\n",
    "### 2. Data\n",
    "**Got this dataset from kaggle here is the link**\n",
    "https://www.kaggle.com/datasets/muhammetvarl/laptop-price\n",
    "### 3. Evaluation\n",
    "**As always we will fully try to get over accuracy to 95%**\n",
    "### 4. Features\n",
    "1. Company- String -Laptop Manufacturer\n",
    "2. Product -String -Brand and Model\n",
    "3. TypeName -String -Type (Notebook, Ultrabook, Gaming, etc.)\n",
    "4. Inches -Numeric- Screen Size\n",
    "5. ScreenResolution -String- Screen Resolution\n",
    "6. Cpu- String -Central Processing Unit (CPU)\n",
    "7. Ram -String- Laptop RAM\n",
    "8. Memory -String- Hard Disk / SSD Memory\n",
    "9. GPU -String- Graphics Processing Units (GPU)\n",
    "10. OpSys -String- Operating System\n",
    "11. Weight -String- Laptop Weight"
   ]
  },
  {
   "cell_type": "code",
   "execution_count": 1,
   "id": "0625fc3b",
   "metadata": {},
   "outputs": [],
   "source": [
    "#Some necessary libraries\n",
    "import pandas as pd\n",
    "import numpy as np\n",
    "import matplotlib.pyplot as plt\n",
    "import seaborn as sns\n",
    "%matplotlib inline"
   ]
  },
  {
   "cell_type": "code",
   "execution_count": 2,
   "id": "284e19b8",
   "metadata": {},
   "outputs": [],
   "source": [
    "#Lets Load out dataset\n",
    "df=pd.read_csv('laptop_price.csv',encoding='latin-1')"
   ]
  },
  {
   "cell_type": "code",
   "execution_count": 3,
   "id": "5f275288",
   "metadata": {},
   "outputs": [
    {
     "data": {
      "text/html": [
       "<div>\n",
       "<style scoped>\n",
       "    .dataframe tbody tr th:only-of-type {\n",
       "        vertical-align: middle;\n",
       "    }\n",
       "\n",
       "    .dataframe tbody tr th {\n",
       "        vertical-align: top;\n",
       "    }\n",
       "\n",
       "    .dataframe thead th {\n",
       "        text-align: right;\n",
       "    }\n",
       "</style>\n",
       "<table border=\"1\" class=\"dataframe\">\n",
       "  <thead>\n",
       "    <tr style=\"text-align: right;\">\n",
       "      <th></th>\n",
       "      <th>laptop_ID</th>\n",
       "      <th>Company</th>\n",
       "      <th>Product</th>\n",
       "      <th>TypeName</th>\n",
       "      <th>Inches</th>\n",
       "      <th>ScreenResolution</th>\n",
       "      <th>Cpu</th>\n",
       "      <th>Ram</th>\n",
       "      <th>Memory</th>\n",
       "      <th>Gpu</th>\n",
       "      <th>OpSys</th>\n",
       "      <th>Weight</th>\n",
       "      <th>Price_euros</th>\n",
       "    </tr>\n",
       "  </thead>\n",
       "  <tbody>\n",
       "    <tr>\n",
       "      <th>0</th>\n",
       "      <td>1</td>\n",
       "      <td>Apple</td>\n",
       "      <td>MacBook Pro</td>\n",
       "      <td>Ultrabook</td>\n",
       "      <td>13.3</td>\n",
       "      <td>IPS Panel Retina Display 2560x1600</td>\n",
       "      <td>Intel Core i5 2.3GHz</td>\n",
       "      <td>8GB</td>\n",
       "      <td>128GB SSD</td>\n",
       "      <td>Intel Iris Plus Graphics 640</td>\n",
       "      <td>macOS</td>\n",
       "      <td>1.37kg</td>\n",
       "      <td>1339.69</td>\n",
       "    </tr>\n",
       "    <tr>\n",
       "      <th>1</th>\n",
       "      <td>2</td>\n",
       "      <td>Apple</td>\n",
       "      <td>Macbook Air</td>\n",
       "      <td>Ultrabook</td>\n",
       "      <td>13.3</td>\n",
       "      <td>1440x900</td>\n",
       "      <td>Intel Core i5 1.8GHz</td>\n",
       "      <td>8GB</td>\n",
       "      <td>128GB Flash Storage</td>\n",
       "      <td>Intel HD Graphics 6000</td>\n",
       "      <td>macOS</td>\n",
       "      <td>1.34kg</td>\n",
       "      <td>898.94</td>\n",
       "    </tr>\n",
       "    <tr>\n",
       "      <th>2</th>\n",
       "      <td>3</td>\n",
       "      <td>HP</td>\n",
       "      <td>250 G6</td>\n",
       "      <td>Notebook</td>\n",
       "      <td>15.6</td>\n",
       "      <td>Full HD 1920x1080</td>\n",
       "      <td>Intel Core i5 7200U 2.5GHz</td>\n",
       "      <td>8GB</td>\n",
       "      <td>256GB SSD</td>\n",
       "      <td>Intel HD Graphics 620</td>\n",
       "      <td>No OS</td>\n",
       "      <td>1.86kg</td>\n",
       "      <td>575.00</td>\n",
       "    </tr>\n",
       "    <tr>\n",
       "      <th>3</th>\n",
       "      <td>4</td>\n",
       "      <td>Apple</td>\n",
       "      <td>MacBook Pro</td>\n",
       "      <td>Ultrabook</td>\n",
       "      <td>15.4</td>\n",
       "      <td>IPS Panel Retina Display 2880x1800</td>\n",
       "      <td>Intel Core i7 2.7GHz</td>\n",
       "      <td>16GB</td>\n",
       "      <td>512GB SSD</td>\n",
       "      <td>AMD Radeon Pro 455</td>\n",
       "      <td>macOS</td>\n",
       "      <td>1.83kg</td>\n",
       "      <td>2537.45</td>\n",
       "    </tr>\n",
       "    <tr>\n",
       "      <th>4</th>\n",
       "      <td>5</td>\n",
       "      <td>Apple</td>\n",
       "      <td>MacBook Pro</td>\n",
       "      <td>Ultrabook</td>\n",
       "      <td>13.3</td>\n",
       "      <td>IPS Panel Retina Display 2560x1600</td>\n",
       "      <td>Intel Core i5 3.1GHz</td>\n",
       "      <td>8GB</td>\n",
       "      <td>256GB SSD</td>\n",
       "      <td>Intel Iris Plus Graphics 650</td>\n",
       "      <td>macOS</td>\n",
       "      <td>1.37kg</td>\n",
       "      <td>1803.60</td>\n",
       "    </tr>\n",
       "  </tbody>\n",
       "</table>\n",
       "</div>"
      ],
      "text/plain": [
       "   laptop_ID Company      Product   TypeName  Inches  \\\n",
       "0          1   Apple  MacBook Pro  Ultrabook    13.3   \n",
       "1          2   Apple  Macbook Air  Ultrabook    13.3   \n",
       "2          3      HP       250 G6   Notebook    15.6   \n",
       "3          4   Apple  MacBook Pro  Ultrabook    15.4   \n",
       "4          5   Apple  MacBook Pro  Ultrabook    13.3   \n",
       "\n",
       "                     ScreenResolution                         Cpu   Ram  \\\n",
       "0  IPS Panel Retina Display 2560x1600        Intel Core i5 2.3GHz   8GB   \n",
       "1                            1440x900        Intel Core i5 1.8GHz   8GB   \n",
       "2                   Full HD 1920x1080  Intel Core i5 7200U 2.5GHz   8GB   \n",
       "3  IPS Panel Retina Display 2880x1800        Intel Core i7 2.7GHz  16GB   \n",
       "4  IPS Panel Retina Display 2560x1600        Intel Core i5 3.1GHz   8GB   \n",
       "\n",
       "                Memory                           Gpu  OpSys  Weight  \\\n",
       "0            128GB SSD  Intel Iris Plus Graphics 640  macOS  1.37kg   \n",
       "1  128GB Flash Storage        Intel HD Graphics 6000  macOS  1.34kg   \n",
       "2            256GB SSD         Intel HD Graphics 620  No OS  1.86kg   \n",
       "3            512GB SSD            AMD Radeon Pro 455  macOS  1.83kg   \n",
       "4            256GB SSD  Intel Iris Plus Graphics 650  macOS  1.37kg   \n",
       "\n",
       "   Price_euros  \n",
       "0      1339.69  \n",
       "1       898.94  \n",
       "2       575.00  \n",
       "3      2537.45  \n",
       "4      1803.60  "
      ]
     },
     "execution_count": 3,
     "metadata": {},
     "output_type": "execute_result"
    }
   ],
   "source": [
    "df.head()"
   ]
  },
  {
   "cell_type": "code",
   "execution_count": 4,
   "id": "ef1d857d",
   "metadata": {},
   "outputs": [
    {
     "name": "stdout",
     "output_type": "stream",
     "text": [
      "<class 'pandas.core.frame.DataFrame'>\n",
      "RangeIndex: 1303 entries, 0 to 1302\n",
      "Data columns (total 13 columns):\n",
      " #   Column            Non-Null Count  Dtype  \n",
      "---  ------            --------------  -----  \n",
      " 0   laptop_ID         1303 non-null   int64  \n",
      " 1   Company           1303 non-null   object \n",
      " 2   Product           1303 non-null   object \n",
      " 3   TypeName          1303 non-null   object \n",
      " 4   Inches            1303 non-null   float64\n",
      " 5   ScreenResolution  1303 non-null   object \n",
      " 6   Cpu               1303 non-null   object \n",
      " 7   Ram               1303 non-null   object \n",
      " 8   Memory            1303 non-null   object \n",
      " 9   Gpu               1303 non-null   object \n",
      " 10  OpSys             1303 non-null   object \n",
      " 11  Weight            1303 non-null   object \n",
      " 12  Price_euros       1303 non-null   float64\n",
      "dtypes: float64(2), int64(1), object(10)\n",
      "memory usage: 132.5+ KB\n"
     ]
    }
   ],
   "source": [
    "#Check states\n",
    "df.info()"
   ]
  },
  {
   "cell_type": "code",
   "execution_count": 5,
   "id": "f9b7c15a",
   "metadata": {},
   "outputs": [
    {
     "data": {
      "text/html": [
       "<div>\n",
       "<style scoped>\n",
       "    .dataframe tbody tr th:only-of-type {\n",
       "        vertical-align: middle;\n",
       "    }\n",
       "\n",
       "    .dataframe tbody tr th {\n",
       "        vertical-align: top;\n",
       "    }\n",
       "\n",
       "    .dataframe thead th {\n",
       "        text-align: right;\n",
       "    }\n",
       "</style>\n",
       "<table border=\"1\" class=\"dataframe\">\n",
       "  <thead>\n",
       "    <tr style=\"text-align: right;\">\n",
       "      <th></th>\n",
       "      <th>laptop_ID</th>\n",
       "      <th>Inches</th>\n",
       "      <th>Price_euros</th>\n",
       "    </tr>\n",
       "  </thead>\n",
       "  <tbody>\n",
       "    <tr>\n",
       "      <th>count</th>\n",
       "      <td>1303.000000</td>\n",
       "      <td>1303.000000</td>\n",
       "      <td>1303.000000</td>\n",
       "    </tr>\n",
       "    <tr>\n",
       "      <th>mean</th>\n",
       "      <td>660.155794</td>\n",
       "      <td>15.017191</td>\n",
       "      <td>1123.686992</td>\n",
       "    </tr>\n",
       "    <tr>\n",
       "      <th>std</th>\n",
       "      <td>381.172104</td>\n",
       "      <td>1.426304</td>\n",
       "      <td>699.009043</td>\n",
       "    </tr>\n",
       "    <tr>\n",
       "      <th>min</th>\n",
       "      <td>1.000000</td>\n",
       "      <td>10.100000</td>\n",
       "      <td>174.000000</td>\n",
       "    </tr>\n",
       "    <tr>\n",
       "      <th>25%</th>\n",
       "      <td>331.500000</td>\n",
       "      <td>14.000000</td>\n",
       "      <td>599.000000</td>\n",
       "    </tr>\n",
       "    <tr>\n",
       "      <th>50%</th>\n",
       "      <td>659.000000</td>\n",
       "      <td>15.600000</td>\n",
       "      <td>977.000000</td>\n",
       "    </tr>\n",
       "    <tr>\n",
       "      <th>75%</th>\n",
       "      <td>990.500000</td>\n",
       "      <td>15.600000</td>\n",
       "      <td>1487.880000</td>\n",
       "    </tr>\n",
       "    <tr>\n",
       "      <th>max</th>\n",
       "      <td>1320.000000</td>\n",
       "      <td>18.400000</td>\n",
       "      <td>6099.000000</td>\n",
       "    </tr>\n",
       "  </tbody>\n",
       "</table>\n",
       "</div>"
      ],
      "text/plain": [
       "         laptop_ID       Inches  Price_euros\n",
       "count  1303.000000  1303.000000  1303.000000\n",
       "mean    660.155794    15.017191  1123.686992\n",
       "std     381.172104     1.426304   699.009043\n",
       "min       1.000000    10.100000   174.000000\n",
       "25%     331.500000    14.000000   599.000000\n",
       "50%     659.000000    15.600000   977.000000\n",
       "75%     990.500000    15.600000  1487.880000\n",
       "max    1320.000000    18.400000  6099.000000"
      ]
     },
     "execution_count": 5,
     "metadata": {},
     "output_type": "execute_result"
    }
   ],
   "source": [
    "df.describe()"
   ]
  },
  {
   "cell_type": "markdown",
   "id": "05d0bfde",
   "metadata": {},
   "source": [
    "# Lets Clean"
   ]
  },
  {
   "cell_type": "code",
   "execution_count": 6,
   "id": "ef70d363",
   "metadata": {},
   "outputs": [],
   "source": [
    "def weight(x):\n",
    "    one=x.split('k')[0]\n",
    "    return (float(one))"
   ]
  },
  {
   "cell_type": "code",
   "execution_count": 7,
   "id": "da2505a9",
   "metadata": {},
   "outputs": [],
   "source": [
    "df['Weight']=df['Weight'].apply(weight) ##From string to float"
   ]
  },
  {
   "cell_type": "code",
   "execution_count": 8,
   "id": "871551ef",
   "metadata": {},
   "outputs": [
    {
     "data": {
      "text/plain": [
       "8GB     619\n",
       "4GB     375\n",
       "16GB    200\n",
       "6GB      41\n",
       "12GB     25\n",
       "2GB      22\n",
       "32GB     17\n",
       "24GB      3\n",
       "64GB      1\n",
       "Name: Ram, dtype: int64"
      ]
     },
     "execution_count": 8,
     "metadata": {},
     "output_type": "execute_result"
    }
   ],
   "source": [
    "#Lets try with Ram lets check whether all Ram Spaces are in GB\n",
    "df['Ram'].value_counts()"
   ]
  },
  {
   "cell_type": "code",
   "execution_count": 9,
   "id": "9084802d",
   "metadata": {},
   "outputs": [],
   "source": [
    "def ram(x):\n",
    "    one=x.split('G')[0]\n",
    "    return (int(one))\n",
    "df['Ram']=df['Ram'].apply(ram) ##From string to float"
   ]
  },
  {
   "cell_type": "code",
   "execution_count": 10,
   "id": "b61f8aeb",
   "metadata": {},
   "outputs": [
    {
     "data": {
      "text/html": [
       "<div>\n",
       "<style scoped>\n",
       "    .dataframe tbody tr th:only-of-type {\n",
       "        vertical-align: middle;\n",
       "    }\n",
       "\n",
       "    .dataframe tbody tr th {\n",
       "        vertical-align: top;\n",
       "    }\n",
       "\n",
       "    .dataframe thead th {\n",
       "        text-align: right;\n",
       "    }\n",
       "</style>\n",
       "<table border=\"1\" class=\"dataframe\">\n",
       "  <thead>\n",
       "    <tr style=\"text-align: right;\">\n",
       "      <th></th>\n",
       "      <th>laptop_ID</th>\n",
       "      <th>Company</th>\n",
       "      <th>Product</th>\n",
       "      <th>TypeName</th>\n",
       "      <th>Inches</th>\n",
       "      <th>ScreenResolution</th>\n",
       "      <th>Cpu</th>\n",
       "      <th>Ram</th>\n",
       "      <th>Memory</th>\n",
       "      <th>Gpu</th>\n",
       "      <th>OpSys</th>\n",
       "      <th>Weight</th>\n",
       "      <th>Price_euros</th>\n",
       "    </tr>\n",
       "  </thead>\n",
       "  <tbody>\n",
       "    <tr>\n",
       "      <th>0</th>\n",
       "      <td>1</td>\n",
       "      <td>Apple</td>\n",
       "      <td>MacBook Pro</td>\n",
       "      <td>Ultrabook</td>\n",
       "      <td>13.3</td>\n",
       "      <td>IPS Panel Retina Display 2560x1600</td>\n",
       "      <td>Intel Core i5 2.3GHz</td>\n",
       "      <td>8</td>\n",
       "      <td>128GB SSD</td>\n",
       "      <td>Intel Iris Plus Graphics 640</td>\n",
       "      <td>macOS</td>\n",
       "      <td>1.37</td>\n",
       "      <td>1339.69</td>\n",
       "    </tr>\n",
       "    <tr>\n",
       "      <th>1</th>\n",
       "      <td>2</td>\n",
       "      <td>Apple</td>\n",
       "      <td>Macbook Air</td>\n",
       "      <td>Ultrabook</td>\n",
       "      <td>13.3</td>\n",
       "      <td>1440x900</td>\n",
       "      <td>Intel Core i5 1.8GHz</td>\n",
       "      <td>8</td>\n",
       "      <td>128GB Flash Storage</td>\n",
       "      <td>Intel HD Graphics 6000</td>\n",
       "      <td>macOS</td>\n",
       "      <td>1.34</td>\n",
       "      <td>898.94</td>\n",
       "    </tr>\n",
       "    <tr>\n",
       "      <th>2</th>\n",
       "      <td>3</td>\n",
       "      <td>HP</td>\n",
       "      <td>250 G6</td>\n",
       "      <td>Notebook</td>\n",
       "      <td>15.6</td>\n",
       "      <td>Full HD 1920x1080</td>\n",
       "      <td>Intel Core i5 7200U 2.5GHz</td>\n",
       "      <td>8</td>\n",
       "      <td>256GB SSD</td>\n",
       "      <td>Intel HD Graphics 620</td>\n",
       "      <td>No OS</td>\n",
       "      <td>1.86</td>\n",
       "      <td>575.00</td>\n",
       "    </tr>\n",
       "    <tr>\n",
       "      <th>3</th>\n",
       "      <td>4</td>\n",
       "      <td>Apple</td>\n",
       "      <td>MacBook Pro</td>\n",
       "      <td>Ultrabook</td>\n",
       "      <td>15.4</td>\n",
       "      <td>IPS Panel Retina Display 2880x1800</td>\n",
       "      <td>Intel Core i7 2.7GHz</td>\n",
       "      <td>16</td>\n",
       "      <td>512GB SSD</td>\n",
       "      <td>AMD Radeon Pro 455</td>\n",
       "      <td>macOS</td>\n",
       "      <td>1.83</td>\n",
       "      <td>2537.45</td>\n",
       "    </tr>\n",
       "    <tr>\n",
       "      <th>4</th>\n",
       "      <td>5</td>\n",
       "      <td>Apple</td>\n",
       "      <td>MacBook Pro</td>\n",
       "      <td>Ultrabook</td>\n",
       "      <td>13.3</td>\n",
       "      <td>IPS Panel Retina Display 2560x1600</td>\n",
       "      <td>Intel Core i5 3.1GHz</td>\n",
       "      <td>8</td>\n",
       "      <td>256GB SSD</td>\n",
       "      <td>Intel Iris Plus Graphics 650</td>\n",
       "      <td>macOS</td>\n",
       "      <td>1.37</td>\n",
       "      <td>1803.60</td>\n",
       "    </tr>\n",
       "  </tbody>\n",
       "</table>\n",
       "</div>"
      ],
      "text/plain": [
       "   laptop_ID Company      Product   TypeName  Inches  \\\n",
       "0          1   Apple  MacBook Pro  Ultrabook    13.3   \n",
       "1          2   Apple  Macbook Air  Ultrabook    13.3   \n",
       "2          3      HP       250 G6   Notebook    15.6   \n",
       "3          4   Apple  MacBook Pro  Ultrabook    15.4   \n",
       "4          5   Apple  MacBook Pro  Ultrabook    13.3   \n",
       "\n",
       "                     ScreenResolution                         Cpu  Ram  \\\n",
       "0  IPS Panel Retina Display 2560x1600        Intel Core i5 2.3GHz    8   \n",
       "1                            1440x900        Intel Core i5 1.8GHz    8   \n",
       "2                   Full HD 1920x1080  Intel Core i5 7200U 2.5GHz    8   \n",
       "3  IPS Panel Retina Display 2880x1800        Intel Core i7 2.7GHz   16   \n",
       "4  IPS Panel Retina Display 2560x1600        Intel Core i5 3.1GHz    8   \n",
       "\n",
       "                Memory                           Gpu  OpSys  Weight  \\\n",
       "0            128GB SSD  Intel Iris Plus Graphics 640  macOS    1.37   \n",
       "1  128GB Flash Storage        Intel HD Graphics 6000  macOS    1.34   \n",
       "2            256GB SSD         Intel HD Graphics 620  No OS    1.86   \n",
       "3            512GB SSD            AMD Radeon Pro 455  macOS    1.83   \n",
       "4            256GB SSD  Intel Iris Plus Graphics 650  macOS    1.37   \n",
       "\n",
       "   Price_euros  \n",
       "0      1339.69  \n",
       "1       898.94  \n",
       "2       575.00  \n",
       "3      2537.45  \n",
       "4      1803.60  "
      ]
     },
     "execution_count": 10,
     "metadata": {},
     "output_type": "execute_result"
    }
   ],
   "source": [
    "df.head()"
   ]
  },
  {
   "cell_type": "code",
   "execution_count": 11,
   "id": "63dc2903",
   "metadata": {},
   "outputs": [],
   "source": [
    "df.rename(columns = {'Ram':'Ram_GB', 'Weight':'Weight_KG'}, inplace = True)"
   ]
  },
  {
   "cell_type": "code",
   "execution_count": 12,
   "id": "fccd4db8",
   "metadata": {
    "scrolled": true
   },
   "outputs": [
    {
     "data": {
      "text/html": [
       "<div>\n",
       "<style scoped>\n",
       "    .dataframe tbody tr th:only-of-type {\n",
       "        vertical-align: middle;\n",
       "    }\n",
       "\n",
       "    .dataframe tbody tr th {\n",
       "        vertical-align: top;\n",
       "    }\n",
       "\n",
       "    .dataframe thead th {\n",
       "        text-align: right;\n",
       "    }\n",
       "</style>\n",
       "<table border=\"1\" class=\"dataframe\">\n",
       "  <thead>\n",
       "    <tr style=\"text-align: right;\">\n",
       "      <th></th>\n",
       "      <th>laptop_ID</th>\n",
       "      <th>Company</th>\n",
       "      <th>Product</th>\n",
       "      <th>TypeName</th>\n",
       "      <th>Inches</th>\n",
       "      <th>ScreenResolution</th>\n",
       "      <th>Cpu</th>\n",
       "      <th>Ram_GB</th>\n",
       "      <th>Memory</th>\n",
       "      <th>Gpu</th>\n",
       "      <th>OpSys</th>\n",
       "      <th>Weight_KG</th>\n",
       "      <th>Price_euros</th>\n",
       "    </tr>\n",
       "  </thead>\n",
       "  <tbody>\n",
       "    <tr>\n",
       "      <th>0</th>\n",
       "      <td>1</td>\n",
       "      <td>Apple</td>\n",
       "      <td>MacBook Pro</td>\n",
       "      <td>Ultrabook</td>\n",
       "      <td>13.3</td>\n",
       "      <td>IPS Panel Retina Display 2560x1600</td>\n",
       "      <td>Intel Core i5 2.3GHz</td>\n",
       "      <td>8</td>\n",
       "      <td>128GB SSD</td>\n",
       "      <td>Intel Iris Plus Graphics 640</td>\n",
       "      <td>macOS</td>\n",
       "      <td>1.37</td>\n",
       "      <td>1339.69</td>\n",
       "    </tr>\n",
       "    <tr>\n",
       "      <th>1</th>\n",
       "      <td>2</td>\n",
       "      <td>Apple</td>\n",
       "      <td>Macbook Air</td>\n",
       "      <td>Ultrabook</td>\n",
       "      <td>13.3</td>\n",
       "      <td>1440x900</td>\n",
       "      <td>Intel Core i5 1.8GHz</td>\n",
       "      <td>8</td>\n",
       "      <td>128GB Flash Storage</td>\n",
       "      <td>Intel HD Graphics 6000</td>\n",
       "      <td>macOS</td>\n",
       "      <td>1.34</td>\n",
       "      <td>898.94</td>\n",
       "    </tr>\n",
       "    <tr>\n",
       "      <th>2</th>\n",
       "      <td>3</td>\n",
       "      <td>HP</td>\n",
       "      <td>250 G6</td>\n",
       "      <td>Notebook</td>\n",
       "      <td>15.6</td>\n",
       "      <td>Full HD 1920x1080</td>\n",
       "      <td>Intel Core i5 7200U 2.5GHz</td>\n",
       "      <td>8</td>\n",
       "      <td>256GB SSD</td>\n",
       "      <td>Intel HD Graphics 620</td>\n",
       "      <td>No OS</td>\n",
       "      <td>1.86</td>\n",
       "      <td>575.00</td>\n",
       "    </tr>\n",
       "    <tr>\n",
       "      <th>3</th>\n",
       "      <td>4</td>\n",
       "      <td>Apple</td>\n",
       "      <td>MacBook Pro</td>\n",
       "      <td>Ultrabook</td>\n",
       "      <td>15.4</td>\n",
       "      <td>IPS Panel Retina Display 2880x1800</td>\n",
       "      <td>Intel Core i7 2.7GHz</td>\n",
       "      <td>16</td>\n",
       "      <td>512GB SSD</td>\n",
       "      <td>AMD Radeon Pro 455</td>\n",
       "      <td>macOS</td>\n",
       "      <td>1.83</td>\n",
       "      <td>2537.45</td>\n",
       "    </tr>\n",
       "    <tr>\n",
       "      <th>4</th>\n",
       "      <td>5</td>\n",
       "      <td>Apple</td>\n",
       "      <td>MacBook Pro</td>\n",
       "      <td>Ultrabook</td>\n",
       "      <td>13.3</td>\n",
       "      <td>IPS Panel Retina Display 2560x1600</td>\n",
       "      <td>Intel Core i5 3.1GHz</td>\n",
       "      <td>8</td>\n",
       "      <td>256GB SSD</td>\n",
       "      <td>Intel Iris Plus Graphics 650</td>\n",
       "      <td>macOS</td>\n",
       "      <td>1.37</td>\n",
       "      <td>1803.60</td>\n",
       "    </tr>\n",
       "  </tbody>\n",
       "</table>\n",
       "</div>"
      ],
      "text/plain": [
       "   laptop_ID Company      Product   TypeName  Inches  \\\n",
       "0          1   Apple  MacBook Pro  Ultrabook    13.3   \n",
       "1          2   Apple  Macbook Air  Ultrabook    13.3   \n",
       "2          3      HP       250 G6   Notebook    15.6   \n",
       "3          4   Apple  MacBook Pro  Ultrabook    15.4   \n",
       "4          5   Apple  MacBook Pro  Ultrabook    13.3   \n",
       "\n",
       "                     ScreenResolution                         Cpu  Ram_GB  \\\n",
       "0  IPS Panel Retina Display 2560x1600        Intel Core i5 2.3GHz       8   \n",
       "1                            1440x900        Intel Core i5 1.8GHz       8   \n",
       "2                   Full HD 1920x1080  Intel Core i5 7200U 2.5GHz       8   \n",
       "3  IPS Panel Retina Display 2880x1800        Intel Core i7 2.7GHz      16   \n",
       "4  IPS Panel Retina Display 2560x1600        Intel Core i5 3.1GHz       8   \n",
       "\n",
       "                Memory                           Gpu  OpSys  Weight_KG  \\\n",
       "0            128GB SSD  Intel Iris Plus Graphics 640  macOS       1.37   \n",
       "1  128GB Flash Storage        Intel HD Graphics 6000  macOS       1.34   \n",
       "2            256GB SSD         Intel HD Graphics 620  No OS       1.86   \n",
       "3            512GB SSD            AMD Radeon Pro 455  macOS       1.83   \n",
       "4            256GB SSD  Intel Iris Plus Graphics 650  macOS       1.37   \n",
       "\n",
       "   Price_euros  \n",
       "0      1339.69  \n",
       "1       898.94  \n",
       "2       575.00  \n",
       "3      2537.45  \n",
       "4      1803.60  "
      ]
     },
     "execution_count": 12,
     "metadata": {},
     "output_type": "execute_result"
    }
   ],
   "source": [
    "df.head()"
   ]
  },
  {
   "cell_type": "code",
   "execution_count": 13,
   "id": "3338a9fa",
   "metadata": {},
   "outputs": [
    {
     "name": "stdout",
     "output_type": "stream",
     "text": [
      "<class 'pandas.core.frame.DataFrame'>\n",
      "RangeIndex: 1303 entries, 0 to 1302\n",
      "Data columns (total 13 columns):\n",
      " #   Column            Non-Null Count  Dtype  \n",
      "---  ------            --------------  -----  \n",
      " 0   laptop_ID         1303 non-null   int64  \n",
      " 1   Company           1303 non-null   object \n",
      " 2   Product           1303 non-null   object \n",
      " 3   TypeName          1303 non-null   object \n",
      " 4   Inches            1303 non-null   float64\n",
      " 5   ScreenResolution  1303 non-null   object \n",
      " 6   Cpu               1303 non-null   object \n",
      " 7   Ram_GB            1303 non-null   int64  \n",
      " 8   Memory            1303 non-null   object \n",
      " 9   Gpu               1303 non-null   object \n",
      " 10  OpSys             1303 non-null   object \n",
      " 11  Weight_KG         1303 non-null   float64\n",
      " 12  Price_euros       1303 non-null   float64\n",
      "dtypes: float64(3), int64(2), object(8)\n",
      "memory usage: 132.5+ KB\n"
     ]
    }
   ],
   "source": [
    "df.info()"
   ]
  },
  {
   "cell_type": "markdown",
   "id": "07fa92d8",
   "metadata": {},
   "source": [
    "**No need of Feature 'laptop_ID' lets drop it**"
   ]
  },
  {
   "cell_type": "code",
   "execution_count": 14,
   "id": "cb1be7f6",
   "metadata": {},
   "outputs": [],
   "source": [
    "df.drop('laptop_ID',inplace=True,axis=1)"
   ]
  },
  {
   "cell_type": "markdown",
   "id": "0cbff6e5",
   "metadata": {},
   "source": [
    "### Lets get visualization"
   ]
  },
  {
   "cell_type": "code",
   "execution_count": 15,
   "id": "e0d2b7f8",
   "metadata": {},
   "outputs": [
    {
     "data": {
      "image/png": "[encoded data removed]",
      "text/plain": [
       "<Figure size 1440x720 with 1 Axes>"
      ]
     },
     "metadata": {
      "needs_background": "light"
     },
     "output_type": "display_data"
    }
   ],
   "source": [
    "df_sale=df.groupby('Company')['Company'].count()\n",
    "df_sale=pd.DataFrame(df_sale)\n",
    "df_sale.rename({'Company':'Sales'},inplace=True,axis=1)\n",
    "df_sale.sort_values(by='Sales',axis=0,ascending=False,inplace=True)\n",
    "plt.figure(figsize = (20,10))\n",
    "b=sns.barplot(x=df_sale.index,y=df_sale['Sales'],palette = 'RdBu')\n",
    "for p in b.patches:\n",
    "    b.annotate(format(p.get_height(), '.1f'),\n",
    "                   (p.get_x() + p.get_width() / 2., p.get_height()), \n",
    "                   ha = 'center', va = 'center', \n",
    "                   xytext = (0, 9), \n",
    "                   textcoords = 'offset points')\n",
    "plt.title('Products launched Per Company');"
   ]
  },
  {
   "cell_type": "code",
   "execution_count": 16,
   "id": "fdfa69e6",
   "metadata": {},
   "outputs": [
    {
     "data": {
      "image/png": "[encoded data removed]",
      "text/plain": [
       "<Figure size 1440x720 with 1 Axes>"
      ]
     },
     "metadata": {
      "needs_background": "light"
     },
     "output_type": "display_data"
    }
   ],
   "source": [
    "plt.figure(figsize = (20,10))\n",
    "sns.boxplot(x = \"Company\", y= \"Price_euros\",data=df);"
   ]
  },
  {
   "cell_type": "code",
   "execution_count": 17,
   "id": "1374daf0",
   "metadata": {},
   "outputs": [],
   "source": [
    "#String to Numerical\n",
    "def preprocess(df):\n",
    "    for label,content in df.items():\n",
    "        if not pd.api.types.is_numeric_dtype(content):\n",
    "            df[label]=content.astype('category').cat.as_ordered()\n",
    "            df[label+'_is_missing']=pd.isnull(content)\n",
    "            df[label]=pd.Categorical(content).codes\n",
    "    return df"
   ]
  },
  {
   "cell_type": "code",
   "execution_count": 18,
   "id": "b7d444d9",
   "metadata": {},
   "outputs": [
    {
     "data": {
      "text/html": [
       "<div>\n",
       "<style scoped>\n",
       "    .dataframe tbody tr th:only-of-type {\n",
       "        vertical-align: middle;\n",
       "    }\n",
       "\n",
       "    .dataframe tbody tr th {\n",
       "        vertical-align: top;\n",
       "    }\n",
       "\n",
       "    .dataframe thead th {\n",
       "        text-align: right;\n",
       "    }\n",
       "</style>\n",
       "<table border=\"1\" class=\"dataframe\">\n",
       "  <thead>\n",
       "    <tr style=\"text-align: right;\">\n",
       "      <th></th>\n",
       "      <th>Company</th>\n",
       "      <th>Product</th>\n",
       "      <th>TypeName</th>\n",
       "      <th>Inches</th>\n",
       "      <th>ScreenResolution</th>\n",
       "      <th>Cpu</th>\n",
       "      <th>Ram_GB</th>\n",
       "      <th>Memory</th>\n",
       "      <th>Gpu</th>\n",
       "      <th>OpSys</th>\n",
       "      <th>Weight_KG</th>\n",
       "      <th>Price_euros</th>\n",
       "      <th>Company_is_missing</th>\n",
       "      <th>Product_is_missing</th>\n",
       "      <th>TypeName_is_missing</th>\n",
       "      <th>ScreenResolution_is_missing</th>\n",
       "      <th>Cpu_is_missing</th>\n",
       "      <th>Memory_is_missing</th>\n",
       "      <th>Gpu_is_missing</th>\n",
       "      <th>OpSys_is_missing</th>\n",
       "    </tr>\n",
       "  </thead>\n",
       "  <tbody>\n",
       "    <tr>\n",
       "      <th>0</th>\n",
       "      <td>1</td>\n",
       "      <td>300</td>\n",
       "      <td>4</td>\n",
       "      <td>13.3</td>\n",
       "      <td>23</td>\n",
       "      <td>65</td>\n",
       "      <td>8</td>\n",
       "      <td>4</td>\n",
       "      <td>58</td>\n",
       "      <td>8</td>\n",
       "      <td>1.37</td>\n",
       "      <td>1339.69</td>\n",
       "      <td>False</td>\n",
       "      <td>False</td>\n",
       "      <td>False</td>\n",
       "      <td>False</td>\n",
       "      <td>False</td>\n",
       "      <td>False</td>\n",
       "      <td>False</td>\n",
       "      <td>False</td>\n",
       "    </tr>\n",
       "    <tr>\n",
       "      <th>1</th>\n",
       "      <td>1</td>\n",
       "      <td>301</td>\n",
       "      <td>4</td>\n",
       "      <td>13.3</td>\n",
       "      <td>1</td>\n",
       "      <td>63</td>\n",
       "      <td>8</td>\n",
       "      <td>2</td>\n",
       "      <td>51</td>\n",
       "      <td>8</td>\n",
       "      <td>1.34</td>\n",
       "      <td>898.94</td>\n",
       "      <td>False</td>\n",
       "      <td>False</td>\n",
       "      <td>False</td>\n",
       "      <td>False</td>\n",
       "      <td>False</td>\n",
       "      <td>False</td>\n",
       "      <td>False</td>\n",
       "      <td>False</td>\n",
       "    </tr>\n",
       "    <tr>\n",
       "      <th>2</th>\n",
       "      <td>7</td>\n",
       "      <td>50</td>\n",
       "      <td>3</td>\n",
       "      <td>15.6</td>\n",
       "      <td>8</td>\n",
       "      <td>74</td>\n",
       "      <td>8</td>\n",
       "      <td>16</td>\n",
       "      <td>53</td>\n",
       "      <td>4</td>\n",
       "      <td>1.86</td>\n",
       "      <td>575.00</td>\n",
       "      <td>False</td>\n",
       "      <td>False</td>\n",
       "      <td>False</td>\n",
       "      <td>False</td>\n",
       "      <td>False</td>\n",
       "      <td>False</td>\n",
       "      <td>False</td>\n",
       "      <td>False</td>\n",
       "    </tr>\n",
       "    <tr>\n",
       "      <th>3</th>\n",
       "      <td>1</td>\n",
       "      <td>300</td>\n",
       "      <td>4</td>\n",
       "      <td>15.4</td>\n",
       "      <td>25</td>\n",
       "      <td>85</td>\n",
       "      <td>16</td>\n",
       "      <td>29</td>\n",
       "      <td>9</td>\n",
       "      <td>8</td>\n",
       "      <td>1.83</td>\n",
       "      <td>2537.45</td>\n",
       "      <td>False</td>\n",
       "      <td>False</td>\n",
       "      <td>False</td>\n",
       "      <td>False</td>\n",
       "      <td>False</td>\n",
       "      <td>False</td>\n",
       "      <td>False</td>\n",
       "      <td>False</td>\n",
       "    </tr>\n",
       "    <tr>\n",
       "      <th>4</th>\n",
       "      <td>1</td>\n",
       "      <td>300</td>\n",
       "      <td>4</td>\n",
       "      <td>13.3</td>\n",
       "      <td>23</td>\n",
       "      <td>67</td>\n",
       "      <td>8</td>\n",
       "      <td>16</td>\n",
       "      <td>59</td>\n",
       "      <td>8</td>\n",
       "      <td>1.37</td>\n",
       "      <td>1803.60</td>\n",
       "      <td>False</td>\n",
       "      <td>False</td>\n",
       "      <td>False</td>\n",
       "      <td>False</td>\n",
       "      <td>False</td>\n",
       "      <td>False</td>\n",
       "      <td>False</td>\n",
       "      <td>False</td>\n",
       "    </tr>\n",
       "  </tbody>\n",
       "</table>\n",
       "</div>"
      ],
      "text/plain": [
       "   Company  Product  TypeName  Inches  ScreenResolution  Cpu  Ram_GB  Memory  \\\n",
       "0        1      300         4    13.3                23   65       8       4   \n",
       "1        1      301         4    13.3                 1   63       8       2   \n",
       "2        7       50         3    15.6                 8   74       8      16   \n",
       "3        1      300         4    15.4                25   85      16      29   \n",
       "4        1      300         4    13.3                23   67       8      16   \n",
       "\n",
       "   Gpu  OpSys  Weight_KG  Price_euros  Company_is_missing  Product_is_missing  \\\n",
       "0   58      8       1.37      1339.69               False               False   \n",
       "1   51      8       1.34       898.94               False               False   \n",
       "2   53      4       1.86       575.00               False               False   \n",
       "3    9      8       1.83      2537.45               False               False   \n",
       "4   59      8       1.37      1803.60               False               False   \n",
       "\n",
       "   TypeName_is_missing  ScreenResolution_is_missing  Cpu_is_missing  \\\n",
       "0                False                        False           False   \n",
       "1                False                        False           False   \n",
       "2                False                        False           False   \n",
       "3                False                        False           False   \n",
       "4                False                        False           False   \n",
       "\n",
       "   Memory_is_missing  Gpu_is_missing  OpSys_is_missing  \n",
       "0              False           False             False  \n",
       "1              False           False             False  \n",
       "2              False           False             False  \n",
       "3              False           False             False  \n",
       "4              False           False             False  "
      ]
     },
     "execution_count": 18,
     "metadata": {},
     "output_type": "execute_result"
    }
   ],
   "source": [
    "df_tmp=preprocess(df)\n",
    "df_tmp.head()"
   ]
  },
  {
   "cell_type": "code",
   "execution_count": 19,
   "id": "9428955f",
   "metadata": {},
   "outputs": [],
   "source": [
    "#Lets split the data\n",
    "from sklearn.model_selection import train_test_split\n",
    "x=df_tmp.drop('Price_euros',axis=1)\n",
    "y=df_tmp['Price_euros']\n",
    "x_train,x_test,y_train,y_test=train_test_split(x,y,test_size=0.2)"
   ]
  },
  {
   "cell_type": "markdown",
   "id": "6a85ad8a",
   "metadata": {},
   "source": [
    "# 5. Modelling\n",
    "**Models Which we will use**\n",
    "1. sklearn.linear_model.SGDRegressor\n",
    "2. sklearn.kernel_ridge.KernelRidge\n",
    "3. sklearn.ensemble.RandomForestRegressor"
   ]
  },
  {
   "cell_type": "markdown",
   "id": "c4031a75",
   "metadata": {},
   "source": [
    "### 1. sklearn.linear_model.SGDRegressor "
   ]
  },
  {
   "cell_type": "code",
   "execution_count": 20,
   "id": "eec8b0b4",
   "metadata": {},
   "outputs": [],
   "source": [
    "np.random.seed(42)\n",
    "model_scores={}\n",
    "from sklearn.linear_model import SGDRegressor\n",
    "s_model_base=SGDRegressor()\n",
    "s_model_base.fit(x_train,y_train)\n",
    "model_scores['SGDRegressor']=s_model_base.score(x_test,y_test)"
   ]
  },
  {
   "cell_type": "markdown",
   "id": "e3e16d35",
   "metadata": {},
   "source": [
    "### 2.  sklearn.kernel_ridge.KernelRidge"
   ]
  },
  {
   "cell_type": "code",
   "execution_count": 21,
   "id": "2b623bc5",
   "metadata": {},
   "outputs": [],
   "source": [
    "np.random.seed(42)\n",
    "from sklearn.kernel_ridge import KernelRidge\n",
    "k_model_base=KernelRidge()\n",
    "k_model_base.fit(x_train,y_train)\n",
    "model_scores['KernelRidge']=k_model_base.score(x_test,y_test)"
   ]
  },
  {
   "cell_type": "markdown",
   "id": "db7f0892",
   "metadata": {},
   "source": [
    "### 3.  sklearn.ensemble.RandomForestRegressor"
   ]
  },
  {
   "cell_type": "code",
   "execution_count": 22,
   "id": "0dd474b5",
   "metadata": {},
   "outputs": [
    {
     "data": {
      "text/plain": [
       "{'SGDRegressor': -9.077731392553382e+20,\n",
       " 'KernelRidge': 0.7156393265543257,\n",
       " 'RandomForestRegressor': 0.8932416579502488}"
      ]
     },
     "execution_count": 22,
     "metadata": {},
     "output_type": "execute_result"
    }
   ],
   "source": [
    "np.random.seed(42)\n",
    "from sklearn.ensemble import RandomForestRegressor\n",
    "r_model_base=RandomForestRegressor(n_estimators=81)\n",
    "r_model_base.fit(x_train,y_train)\n",
    "model_scores['RandomForestRegressor']=r_model_base.score(x_test,y_test)\n",
    "model_scores"
   ]
  },
  {
   "cell_type": "markdown",
   "id": "478589c8",
   "metadata": {},
   "source": [
    "**We are just going to improve Random Forest Regressor**\n",
    "\n",
    "* **GridSearchCV**"
   ]
  },
  {
   "cell_type": "code",
   "execution_count": 23,
   "id": "58b348f4",
   "metadata": {},
   "outputs": [
    {
     "name": "stdout",
     "output_type": "stream",
     "text": [
      "Fitting 5 folds for each of 270 candidates, totalling 1350 fits\n"
     ]
    },
    {
     "data": {
      "text/html": [
       "<style>#sk-container-id-1 {color: black;background-color: white;}#sk-container-id-1 pre{padding: 0;}#sk-container-id-1 div.sk-toggleable {background-color: white;}#sk-container-id-1 label.sk-toggleable__label {cursor: pointer;display: block;width: 100%;margin-bottom: 0;padding: 0.3em;box-sizing: border-box;text-align: center;}#sk-container-id-1 label.sk-toggleable__label-arrow:before {content: \"▸\";float: left;margin-right: 0.25em;color: #696969;}#sk-container-id-1 label.sk-toggleable__label-arrow:hover:before {color: black;}#sk-container-id-1 div.sk-estimator:hover label.sk-toggleable__label-arrow:before {color: black;}#sk-container-id-1 div.sk-toggleable__content {max-height: 0;max-width: 0;overflow: hidden;text-align: left;background-color: #f0f8ff;}#sk-container-id-1 div.sk-toggleable__content pre {margin: 0.2em;color: black;border-radius: 0.25em;background-color: #f0f8ff;}#sk-container-id-1 input.sk-toggleable__control:checked~div.sk-toggleable__content {max-height: 200px;max-width: 100%;overflow: auto;}#sk-container-id-1 input.sk-toggleable__control:checked~label.sk-toggleable__label-arrow:before {content: \"▾\";}#sk-container-id-1 div.sk-estimator input.sk-toggleable__control:checked~label.sk-toggleable__label {background-color: #d4ebff;}#sk-container-id-1 div.sk-label input.sk-toggleable__control:checked~label.sk-toggleable__label {background-color: #d4ebff;}#sk-container-id-1 input.sk-hidden--visually {border: 0;clip: rect(1px 1px 1px 1px);clip: rect(1px, 1px, 1px, 1px);height: 1px;margin: -1px;overflow: hidden;padding: 0;position: absolute;width: 1px;}#sk-container-id-1 div.sk-estimator {font-family: monospace;background-color: #f0f8ff;border: 1px dotted black;border-radius: 0.25em;box-sizing: border-box;margin-bottom: 0.5em;}#sk-container-id-1 div.sk-estimator:hover {background-color: #d4ebff;}#sk-container-id-1 div.sk-parallel-item::after {content: \"\";width: 100%;border-bottom: 1px solid gray;flex-grow: 1;}#sk-container-id-1 div.sk-label:hover label.sk-toggleable__label {background-color: #d4ebff;}#sk-container-id-1 div.sk-serial::before {content: \"\";position: absolute;border-left: 1px solid gray;box-sizing: border-box;top: 0;bottom: 0;left: 50%;z-index: 0;}#sk-container-id-1 div.sk-serial {display: flex;flex-direction: column;align-items: center;background-color: white;padding-right: 0.2em;padding-left: 0.2em;position: relative;}#sk-container-id-1 div.sk-item {position: relative;z-index: 1;}#sk-container-id-1 div.sk-parallel {display: flex;align-items: stretch;justify-content: center;background-color: white;position: relative;}#sk-container-id-1 div.sk-item::before, #sk-container-id-1 div.sk-parallel-item::before {content: \"\";position: absolute;border-left: 1px solid gray;box-sizing: border-box;top: 0;bottom: 0;left: 50%;z-index: -1;}#sk-container-id-1 div.sk-parallel-item {display: flex;flex-direction: column;z-index: 1;position: relative;background-color: white;}#sk-container-id-1 div.sk-parallel-item:first-child::after {align-self: flex-end;width: 50%;}#sk-container-id-1 div.sk-parallel-item:last-child::after {align-self: flex-start;width: 50%;}#sk-container-id-1 div.sk-parallel-item:only-child::after {width: 0;}#sk-container-id-1 div.sk-dashed-wrapped {border: 1px dashed gray;margin: 0 0.4em 0.5em 0.4em;box-sizing: border-box;padding-bottom: 0.4em;background-color: white;}#sk-container-id-1 div.sk-label label {font-family: monospace;font-weight: bold;display: inline-block;line-height: 1.2em;}#sk-container-id-1 div.sk-label-container {text-align: center;}#sk-container-id-1 div.sk-container {/* jupyter's `normalize.less` sets `[hidden] { display: none; }` but bootstrap.min.css set `[hidden] { display: none !important; }` so we also need the `!important` here to be able to override the default hidden behavior on the sphinx rendered scikit-learn.org. See: https://github.com/scikit-learn/scikit-learn/issues/21755 */display: inline-block !important;position: relative;}#sk-container-id-1 div.sk-text-repr-fallback {display: none;}</style><div id=\"sk-container-id-1\" class=\"sk-top-container\"><div class=\"sk-text-repr-fallback\"><pre>GridSearchCV(cv=5, estimator=RandomForestRegressor(),\n",
       "             param_grid={&#x27;criterion&#x27;: [&#x27;squared_error&#x27;, &#x27;absolute_error&#x27;,\n",
       "                                       &#x27;poisson&#x27;],\n",
       "                         &#x27;max_depth&#x27;: [None, 5, 10, 20, 30],\n",
       "                         &#x27;max_features&#x27;: [1, &#x27;sqrt&#x27;],\n",
       "                         &#x27;min_samples_leaf&#x27;: [1, 2, 4],\n",
       "                         &#x27;min_samples_split&#x27;: [2, 4, 6], &#x27;n_jobs&#x27;: [-1]},\n",
       "             verbose=True)</pre><b>In a Jupyter environment, please rerun this cell to show the HTML representation or trust the notebook. <br />On GitHub, the HTML representation is unable to render, please try loading this page with nbviewer.org.</b></div><div class=\"sk-container\" hidden><div class=\"sk-item sk-dashed-wrapped\"><div class=\"sk-label-container\"><div class=\"sk-label sk-toggleable\"><input class=\"sk-toggleable__control sk-hidden--visually\" id=\"sk-estimator-id-1\" type=\"checkbox\" ><label for=\"sk-estimator-id-1\" class=\"sk-toggleable__label sk-toggleable__label-arrow\">GridSearchCV</label><div class=\"sk-toggleable__content\"><pre>GridSearchCV(cv=5, estimator=RandomForestRegressor(),\n",
       "             param_grid={&#x27;criterion&#x27;: [&#x27;squared_error&#x27;, &#x27;absolute_error&#x27;,\n",
       "                                       &#x27;poisson&#x27;],\n",
       "                         &#x27;max_depth&#x27;: [None, 5, 10, 20, 30],\n",
       "                         &#x27;max_features&#x27;: [1, &#x27;sqrt&#x27;],\n",
       "                         &#x27;min_samples_leaf&#x27;: [1, 2, 4],\n",
       "                         &#x27;min_samples_split&#x27;: [2, 4, 6], &#x27;n_jobs&#x27;: [-1]},\n",
       "             verbose=True)</pre></div></div></div><div class=\"sk-parallel\"><div class=\"sk-parallel-item\"><div class=\"sk-item\"><div class=\"sk-label-container\"><div class=\"sk-label sk-toggleable\"><input class=\"sk-toggleable__control sk-hidden--visually\" id=\"sk-estimator-id-2\" type=\"checkbox\" ><label for=\"sk-estimator-id-2\" class=\"sk-toggleable__label sk-toggleable__label-arrow\">estimator: RandomForestRegressor</label><div class=\"sk-toggleable__content\"><pre>RandomForestRegressor()</pre></div></div></div><div class=\"sk-serial\"><div class=\"sk-item\"><div class=\"sk-estimator sk-toggleable\"><input class=\"sk-toggleable__control sk-hidden--visually\" id=\"sk-estimator-id-3\" type=\"checkbox\" ><label for=\"sk-estimator-id-3\" class=\"sk-toggleable__label sk-toggleable__label-arrow\">RandomForestRegressor</label><div class=\"sk-toggleable__content\"><pre>RandomForestRegressor()</pre></div></div></div></div></div></div></div></div></div></div>"
      ],
      "text/plain": [
       "GridSearchCV(cv=5, estimator=RandomForestRegressor(),\n",
       "             param_grid={'criterion': ['squared_error', 'absolute_error',\n",
       "                                       'poisson'],\n",
       "                         'max_depth': [None, 5, 10, 20, 30],\n",
       "                         'max_features': [1, 'sqrt'],\n",
       "                         'min_samples_leaf': [1, 2, 4],\n",
       "                         'min_samples_split': [2, 4, 6], 'n_jobs': [-1]},\n",
       "             verbose=True)"
      ]
     },
     "execution_count": 23,
     "metadata": {},
     "output_type": "execute_result"
    }
   ],
   "source": [
    "from sklearn.model_selection import GridSearchCV\n",
    "np.random.seed(42)\n",
    "r_model_grid={'criterion':['squared_error', 'absolute_error', 'poisson'],\n",
    "        'max_depth':[None,5,10,20,30],\n",
    "        'max_features':[1,'sqrt'],\n",
    "       'min_samples_leaf':[1,2,4],\n",
    "       'min_samples_split':[2,4,6],\n",
    "             'n_jobs':[-1]}\n",
    "r_model_improved=GridSearchCV(estimator=RandomForestRegressor(),\n",
    "                             param_grid=r_model_grid,\n",
    "                             verbose=True,\n",
    "                              cv=5\n",
    "                             )\n",
    "r_model_improved.fit(x_train,y_train)"
   ]
  },
  {
   "cell_type": "code",
   "execution_count": 25,
   "id": "a02c0b6b",
   "metadata": {},
   "outputs": [
    {
     "data": {
      "text/plain": [
       "0.8450843372172271"
      ]
     },
     "execution_count": 25,
     "metadata": {},
     "output_type": "execute_result"
    }
   ],
   "source": [
    "r_model_improved.score(x_test,y_test)"
   ]
  },
  {
   "cell_type": "markdown",
   "id": "0745bc1b",
   "metadata": {},
   "source": [
    "**No improvement but reduced the accuracy lets move for n_estimater both with  improved and ideal models** "
   ]
  },
  {
   "cell_type": "code",
   "execution_count": 26,
   "id": "87d9dded",
   "metadata": {},
   "outputs": [
    {
     "name": "stdout",
     "output_type": "stream",
     "text": [
      "for n_estimator = 1 score = 71.71\n",
      "for n_estimator = 3 score = 80.78\n",
      "for n_estimator = 5 score = 86.38\n",
      "for n_estimator = 7 score = 84.37\n",
      "for n_estimator = 9 score = 86.70\n",
      "for n_estimator = 11 score = 85.57\n",
      "for n_estimator = 13 score = 87.55\n",
      "for n_estimator = 15 score = 87.54\n",
      "for n_estimator = 17 score = 87.20\n",
      "for n_estimator = 19 score = 87.04\n",
      "for n_estimator = 21 score = 87.83\n",
      "for n_estimator = 23 score = 87.58\n",
      "for n_estimator = 25 score = 88.59\n",
      "for n_estimator = 27 score = 87.70\n",
      "for n_estimator = 29 score = 87.73\n",
      "for n_estimator = 31 score = 88.24\n",
      "for n_estimator = 33 score = 87.78\n",
      "for n_estimator = 35 score = 87.87\n",
      "for n_estimator = 37 score = 87.76\n",
      "for n_estimator = 39 score = 87.72\n",
      "for n_estimator = 41 score = 88.21\n",
      "for n_estimator = 43 score = 86.38\n",
      "for n_estimator = 45 score = 87.77\n",
      "for n_estimator = 47 score = 86.71\n",
      "for n_estimator = 49 score = 86.83\n",
      "for n_estimator = 51 score = 88.18\n",
      "for n_estimator = 53 score = 87.92\n",
      "for n_estimator = 55 score = 87.63\n",
      "for n_estimator = 57 score = 88.63\n",
      "for n_estimator = 59 score = 87.63\n",
      "for n_estimator = 61 score = 88.01\n",
      "for n_estimator = 63 score = 88.41\n",
      "for n_estimator = 65 score = 88.34\n",
      "for n_estimator = 67 score = 88.47\n",
      "for n_estimator = 69 score = 88.09\n",
      "for n_estimator = 71 score = 88.40\n",
      "for n_estimator = 73 score = 86.51\n",
      "for n_estimator = 75 score = 87.98\n",
      "for n_estimator = 77 score = 88.07\n",
      "for n_estimator = 79 score = 88.15\n",
      "for n_estimator = 81 score = 88.47\n",
      "for n_estimator = 83 score = 87.97\n",
      "for n_estimator = 85 score = 87.79\n",
      "for n_estimator = 87 score = 88.15\n",
      "for n_estimator = 89 score = 87.82\n",
      "for n_estimator = 91 score = 87.94\n",
      "for n_estimator = 93 score = 87.70\n",
      "for n_estimator = 95 score = 88.19\n",
      "for n_estimator = 97 score = 87.79\n",
      "for n_estimator = 99 score = 87.71\n",
      "for n_estimator = 101 score = 88.29\n",
      "for n_estimator = 103 score = 88.92\n",
      "for n_estimator = 105 score = 88.16\n",
      "for n_estimator = 107 score = 87.66\n",
      "for n_estimator = 109 score = 88.15\n",
      "for n_estimator = 111 score = 87.74\n",
      "for n_estimator = 113 score = 88.07\n",
      "for n_estimator = 115 score = 88.21\n",
      "for n_estimator = 117 score = 87.50\n",
      "for n_estimator = 119 score = 88.63\n",
      "for n_estimator = 121 score = 88.30\n",
      "for n_estimator = 123 score = 87.89\n",
      "for n_estimator = 125 score = 88.56\n",
      "for n_estimator = 127 score = 88.05\n",
      "for n_estimator = 129 score = 88.14\n",
      "for n_estimator = 131 score = 88.29\n",
      "for n_estimator = 133 score = 88.02\n",
      "for n_estimator = 135 score = 88.24\n",
      "for n_estimator = 137 score = 88.69\n",
      "for n_estimator = 139 score = 87.76\n",
      "for n_estimator = 141 score = 88.22\n",
      "for n_estimator = 143 score = 88.06\n",
      "for n_estimator = 145 score = 88.50\n",
      "for n_estimator = 147 score = 88.09\n",
      "for n_estimator = 149 score = 88.25\n"
     ]
    }
   ],
   "source": [
    "#ideal\n",
    "np.random.seed(42)\n",
    "for i in range(1,150,2):\n",
    "    clf=RandomForestRegressor(n_estimators=i)\n",
    "    clf.fit(x_train,y_train)\n",
    "    print(f\"for n_estimator = {i} score = {clf.score(x_test,y_test)*100:0.2f}\")\n"
   ]
  },
  {
   "cell_type": "code",
   "execution_count": 27,
   "id": "1c69ba15",
   "metadata": {},
   "outputs": [
    {
     "data": {
      "text/plain": [
       "{'criterion': 'squared_error',\n",
       " 'max_depth': 30,\n",
       " 'max_features': 'sqrt',\n",
       " 'min_samples_leaf': 1,\n",
       " 'min_samples_split': 2,\n",
       " 'n_jobs': -1}"
      ]
     },
     "execution_count": 27,
     "metadata": {},
     "output_type": "execute_result"
    }
   ],
   "source": [
    "r_model_improved.best_params_"
   ]
  },
  {
   "cell_type": "code",
   "execution_count": 28,
   "id": "9f9b6053",
   "metadata": {},
   "outputs": [
    {
     "name": "stdout",
     "output_type": "stream",
     "text": [
      "for n_estimator = 1 score = 62.16\n",
      "for n_estimator = 3 score = 78.98\n",
      "for n_estimator = 5 score = 81.90\n",
      "for n_estimator = 7 score = 80.06\n",
      "for n_estimator = 9 score = 84.84\n",
      "for n_estimator = 11 score = 84.24\n",
      "for n_estimator = 13 score = 84.40\n",
      "for n_estimator = 15 score = 87.49\n",
      "for n_estimator = 17 score = 85.72\n",
      "for n_estimator = 19 score = 82.84\n",
      "for n_estimator = 21 score = 86.18\n",
      "for n_estimator = 23 score = 81.35\n",
      "for n_estimator = 25 score = 84.22\n",
      "for n_estimator = 27 score = 84.13\n",
      "for n_estimator = 29 score = 84.91\n",
      "for n_estimator = 31 score = 84.00\n",
      "for n_estimator = 33 score = 84.33\n",
      "for n_estimator = 35 score = 84.64\n",
      "for n_estimator = 37 score = 83.50\n",
      "for n_estimator = 39 score = 84.93\n",
      "for n_estimator = 41 score = 85.42\n",
      "for n_estimator = 43 score = 84.41\n",
      "for n_estimator = 45 score = 84.67\n",
      "for n_estimator = 47 score = 85.62\n",
      "for n_estimator = 49 score = 85.00\n",
      "for n_estimator = 51 score = 85.20\n",
      "for n_estimator = 53 score = 83.01\n",
      "for n_estimator = 55 score = 83.82\n",
      "for n_estimator = 57 score = 85.68\n",
      "for n_estimator = 59 score = 84.96\n",
      "for n_estimator = 61 score = 85.31\n",
      "for n_estimator = 63 score = 84.23\n",
      "for n_estimator = 65 score = 83.38\n",
      "for n_estimator = 67 score = 84.37\n",
      "for n_estimator = 69 score = 85.21\n",
      "for n_estimator = 71 score = 84.15\n",
      "for n_estimator = 73 score = 83.68\n",
      "for n_estimator = 75 score = 85.18\n",
      "for n_estimator = 77 score = 83.73\n",
      "for n_estimator = 79 score = 84.81\n",
      "for n_estimator = 81 score = 84.99\n",
      "for n_estimator = 83 score = 84.50\n",
      "for n_estimator = 85 score = 85.03\n",
      "for n_estimator = 87 score = 85.30\n",
      "for n_estimator = 89 score = 84.28\n",
      "for n_estimator = 91 score = 84.81\n",
      "for n_estimator = 93 score = 84.56\n",
      "for n_estimator = 95 score = 84.75\n",
      "for n_estimator = 97 score = 83.99\n",
      "for n_estimator = 99 score = 84.35\n",
      "for n_estimator = 101 score = 84.09\n",
      "for n_estimator = 103 score = 85.65\n",
      "for n_estimator = 105 score = 84.81\n",
      "for n_estimator = 107 score = 85.43\n",
      "for n_estimator = 109 score = 85.00\n",
      "for n_estimator = 111 score = 84.56\n",
      "for n_estimator = 113 score = 85.16\n",
      "for n_estimator = 115 score = 84.46\n",
      "for n_estimator = 117 score = 85.43\n",
      "for n_estimator = 119 score = 85.64\n",
      "for n_estimator = 121 score = 84.96\n",
      "for n_estimator = 123 score = 84.88\n",
      "for n_estimator = 125 score = 84.90\n",
      "for n_estimator = 127 score = 84.84\n",
      "for n_estimator = 129 score = 84.74\n",
      "for n_estimator = 131 score = 85.20\n",
      "for n_estimator = 133 score = 85.27\n",
      "for n_estimator = 135 score = 85.41\n",
      "for n_estimator = 137 score = 85.93\n",
      "for n_estimator = 139 score = 85.05\n",
      "for n_estimator = 141 score = 85.04\n",
      "for n_estimator = 143 score = 85.01\n",
      "for n_estimator = 145 score = 85.00\n",
      "for n_estimator = 147 score = 85.48\n",
      "for n_estimator = 149 score = 85.36\n"
     ]
    }
   ],
   "source": [
    "#improved\n",
    "np.random.seed(42)\n",
    "for i in range(1,150,2):\n",
    "    clf=RandomForestRegressor(n_estimators=i,\n",
    "                             criterion= 'squared_error',\n",
    " max_depth= 30,\n",
    " max_features= 'sqrt',\n",
    " min_samples_leaf= 1,\n",
    " min_samples_split= 2,\n",
    " n_jobs= -1)\n",
    "    clf.fit(x_train,y_train)\n",
    "    print(f\"for n_estimator = {i} score = {clf.score(x_test,y_test)*100:0.2f}\")\n"
   ]
  },
  {
   "cell_type": "markdown",
   "id": "c6359bd7",
   "metadata": {},
   "source": [
    "**So we will move with base model**"
   ]
  },
  {
   "cell_type": "code",
   "execution_count": 24,
   "id": "a6e939ce",
   "metadata": {},
   "outputs": [],
   "source": [
    "def how_accurate(y_test,y_pred):\n",
    "    from sklearn.metrics import mean_absolute_error,mean_squared_error,accuracy_score\n",
    "    print('Mean Absolute Error: ',mean_absolute_error(y_test,y_pred))\n",
    "    print('Mean Square Error: ',mean_squared_error(y_test,y_pred))"
   ]
  },
  {
   "cell_type": "code",
   "execution_count": 25,
   "id": "22a1e9d7",
   "metadata": {},
   "outputs": [
    {
     "name": "stdout",
     "output_type": "stream",
     "text": [
      "Mean Absolute Error:  157.93869120485812\n",
      "Mean Square Error:  54801.68220969688\n"
     ]
    }
   ],
   "source": [
    "clf=RandomForestRegressor(n_estimators=81)\n",
    "clf.fit(x_train,y_train)\n",
    "y_pred=clf.predict(x_test)\n",
    "how_accurate(y_test,y_pred)"
   ]
  },
  {
   "cell_type": "code",
   "execution_count": 26,
   "id": "7f3e18d0",
   "metadata": {},
   "outputs": [
    {
     "data": {
      "text/plain": [
       "0.8975721484685596"
      ]
     },
     "execution_count": 26,
     "metadata": {},
     "output_type": "execute_result"
    }
   ],
   "source": [
    "clf.score(x_test,y_test)"
   ]
  },
  {
   "cell_type": "code",
   "execution_count": 27,
   "id": "fa64343c",
   "metadata": {},
   "outputs": [
    {
     "data": {
      "text/plain": [
       "array([0.02335991, 0.0572117 , 0.0289849 , 0.01664697, 0.03556503,\n",
       "       0.07058818, 0.56350515, 0.01817833, 0.06635372, 0.01331413,\n",
       "       0.10629198, 0.        , 0.        , 0.        , 0.        ,\n",
       "       0.        , 0.        , 0.        , 0.        ])"
      ]
     },
     "execution_count": 27,
     "metadata": {},
     "output_type": "execute_result"
    }
   ],
   "source": [
    "clf.feature_importances_"
   ]
  },
  {
   "cell_type": "code",
   "execution_count": 28,
   "id": "5eb85029",
   "metadata": {},
   "outputs": [],
   "source": [
    "np.random.seed(42)\n",
    "importance=clf.feature_importances_\n",
    "def plot_feature(columns,importance):\n",
    "    df=(pd.DataFrame({'features':columns,'feature_importance':importance}).sort_values('feature_importance',ascending=False)\n",
    "        .reset_index(drop=True))\n",
    "    plt.figure(figsize = (20,10))\n",
    "    b=sns.barplot(y=df['features'],x=df['feature_importance'],palette = 'RdBu')"
   ]
  },
  {
   "cell_type": "code",
   "execution_count": 29,
   "id": "5e5b919f",
   "metadata": {},
   "outputs": [
    {
     "data": {
      "image/png": "[encoded data removed]",
      "text/plain": [
       "<Figure size 1440x720 with 1 Axes>"
      ]
     },
     "metadata": {
      "needs_background": "light"
     },
     "output_type": "display_data"
    }
   ],
   "source": [
    "plot_feature(x_train.columns,importance);"
   ]
  }
 ],
 "metadata": {
  "kernelspec": {
   "display_name": "Python 3 (ipykernel)",
   "language": "python",
   "name": "python3"
  },
  "language_info": {
   "codemirror_mode": {
    "name": "ipython",
    "version": 3
   },
   "file_extension": ".py",
   "mimetype": "text/x-python",
   "name": "python",
   "nbconvert_exporter": "python",
   "pygments_lexer": "ipython3",
   "version": "3.10.0"
  }
 },
 "nbformat": 4,
 "nbformat_minor": 5
}
